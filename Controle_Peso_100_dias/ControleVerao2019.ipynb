{
 "cells": [
  {
   "cell_type": "markdown",
   "metadata": {},
   "source": [
    "### Carregar os dados\n"
   ]
  },
  {
   "cell_type": "code",
   "execution_count": 1,
   "metadata": {
    "scrolled": true
   },
   "outputs": [],
   "source": [
    "#import os\n",
    "#os.getcwd()\n",
    "\n",
    "focoDias = 100\n",
    "focoPeso = 85\n",
    "\n",
    "import pandas as pd\n",
    "import numpy as np\n",
    "\n",
    "def LerJSON(data):\n",
    "    import json\n",
    "    if (data == ''):\n",
    "        return json.loads('[]')\n",
    "    else:\n",
    "        return json.loads(data)\n",
    "\n",
    "df_dados = pd.read_csv('./dados.csv', quotechar='\\'', \\\n",
    "                       converters={'AtividadeFisica':LerJSON, 'AlimentacaoTipo':LerJSON}, header=0)"
   ]
  },
  {
   "cell_type": "markdown",
   "metadata": {},
   "source": [
    "Cálculo do limite de peso"
   ]
  },
  {
   "cell_type": "code",
   "execution_count": 2,
   "metadata": {},
   "outputs": [],
   "source": [
    "count = df_dados['Peso'].count()\n",
    "max = df_dados['Peso'].max()\n",
    "\n",
    "linha_limite = pd.Series(range(0, focoDias))\n",
    "linha_limite = max - (linha_limite * ((max - focoPeso) / focoDias))\n",
    "df_dados['Limite'] = linha_limite"
   ]
  },
  {
   "cell_type": "markdown",
   "metadata": {},
   "source": [
    "Nível de atividades físicas"
   ]
  },
  {
   "cell_type": "code",
   "execution_count": 3,
   "metadata": {},
   "outputs": [],
   "source": [
    "def scoreAtividade(data):\n",
    "    score = 0\n",
    "    for atividade in data:\n",
    "        if (atividade['Tipo'] == 'Corrida'):\n",
    "            score = score + atividade['Distancia'] * atividade['Velocidade']\n",
    "        elif (atividade['Tipo'] == 'Musculação'):\n",
    "            score = 15\n",
    "    return score\n",
    "\n",
    "df_dados['ScoreAtividade'] = df_dados['AtividadeFisica'].apply(scoreAtividade)\n",
    "df_dados['ScoreAtividade'] = 25 * df_dados['ScoreAtividade']\n",
    "\n",
    "def tipoAtividade(data):\n",
    "    tipo = 0\n",
    "    for atividade in data:\n",
    "        if (atividade['Tipo'] == 'Corrida'):\n",
    "            tipo = tipo + 1\n",
    "        elif (atividade['Tipo'] == 'Musculação'):\n",
    "            tipo = tipo + 2\n",
    "    return tipo\n",
    "\n",
    "df_dados['Tipo'] = df_dados['AtividadeFisica'].apply(tipoAtividade)"
   ]
  },
  {
   "cell_type": "markdown",
   "metadata": {},
   "source": [
    "Nível de alimentação"
   ]
  },
  {
   "cell_type": "code",
   "execution_count": 4,
   "metadata": {},
   "outputs": [],
   "source": [
    "def tipoAlimentacao(data):\n",
    "    tipo = 0        \n",
    "    for alimentacao in data:\n",
    "        tipo = tipo + {\n",
    "            'Raízes': lambda: 1,\n",
    "            'Legumes': lambda: 2,\n",
    "            'Frutas': lambda: 4,\n",
    "            'Laticínios': lambda: 8,\n",
    "            'Farinários': lambda: 16,\n",
    "            'Proteína Animal': lambda: 32,\n",
    "            'Açúcar': lambda: 64\n",
    "        }.get(alimentacao, lambda: 0)()\n",
    "    return tipo\n",
    "\n",
    "def nivelAlimentacao(data):\n",
    "    return {\n",
    "        'Baixa': lambda: 1,\n",
    "        'Moderada': lambda: 2,\n",
    "        'Alta': lambda: 4,\n",
    "    }.get(data, lambda: 0)()\n",
    "\n",
    "alimentacaoTipo = df_dados['AlimentacaoTipo'].apply(tipoAlimentacao)\n",
    "alimentacaoVolume = df_dados['AlimentacaoNivel'].apply(nivelAlimentacao)\n",
    "df_dados[\"ScoreAlimentacao\"] = 0.025 * np.sqrt(alimentacaoTipo * alimentacaoVolume)"
   ]
  },
  {
   "cell_type": "markdown",
   "metadata": {},
   "source": [
    "Número de dias"
   ]
  },
  {
   "cell_type": "code",
   "execution_count": 5,
   "metadata": {},
   "outputs": [],
   "source": [
    "df_dados[\"NumeroDias\"] = df_dados.index + 1"
   ]
  },
  {
   "cell_type": "markdown",
   "metadata": {},
   "source": [
    "Geração do gráfico"
   ]
  },
  {
   "cell_type": "code",
   "execution_count": 8,
   "metadata": {
    "scrolled": true
   },
   "outputs": [
    {
     "data": {
      "image/png": "[encoded data removed]",
      "text/plain": [
       "<Figure size 432x288 with 1 Axes>"
      ]
     },
     "metadata": {
      "needs_background": "light"
     },
     "output_type": "display_data"
    }
   ],
   "source": [
    "import matplotlib.pyplot as plt\n",
    "\n",
    "plt.plot(df_dados[\"NumeroDias\"], df_dados[\"Peso\"])\n",
    "plt.plot(df_dados[\"NumeroDias\"], df_dados[\"Limite\"])\n",
    "plt.scatter(df_dados[\"NumeroDias\"], df_dados[\"Peso\"], s=df_dados[\"ScoreAtividade\"], c=df_dados[\"Tipo\"], alpha=0.5)\n",
    "plt.errorbar(df_dados[\"NumeroDias\"], df_dados[\"Peso\"], yerr=df_dados['ScoreAlimentacao'], c=\"grey\", alpha=0.75)\n",
    "plt.xlabel(\"Data\")\n",
    "plt.ylabel(\"Medida\")\n",
    "plt.show()"
   ]
  },
  {
   "cell_type": "markdown",
   "metadata": {},
   "source": [
    "Visualização da Tabela"
   ]
  },
  {
   "cell_type": "code",
   "execution_count": 7,
   "metadata": {
    "scrolled": true
   },
   "outputs": [
    {
     "data": {
      "text/html": [
       "<div>\n",
       "<style scoped>\n",
       "    .dataframe tbody tr th:only-of-type {\n",
       "        vertical-align: middle;\n",
       "    }\n",
       "\n",
       "    .dataframe tbody tr th {\n",
       "        vertical-align: top;\n",
       "    }\n",
       "\n",
       "    .dataframe thead th {\n",
       "        text-align: right;\n",
       "    }\n",
       "</style>\n",
       "<table border=\"1\" class=\"dataframe\">\n",
       "  <thead>\n",
       "    <tr style=\"text-align: right;\">\n",
       "      <th></th>\n",
       "      <th>Data</th>\n",
       "      <th>NumeroDias</th>\n",
       "      <th>Peso</th>\n",
       "      <th>Limite</th>\n",
       "      <th>ScoreAtividade</th>\n",
       "      <th>ScoreAlimentacao</th>\n",
       "    </tr>\n",
       "  </thead>\n",
       "  <tbody>\n",
       "    <tr>\n",
       "      <th>0</th>\n",
       "      <td>2018-09-23</td>\n",
       "      <td>1</td>\n",
       "      <td>96.7</td>\n",
       "      <td>96.700</td>\n",
       "      <td>1346.64</td>\n",
       "      <td>0.122474</td>\n",
       "    </tr>\n",
       "    <tr>\n",
       "      <th>1</th>\n",
       "      <td>2018-09-24</td>\n",
       "      <td>2</td>\n",
       "      <td>96.1</td>\n",
       "      <td>96.583</td>\n",
       "      <td>1323.00</td>\n",
       "      <td>0.093541</td>\n",
       "    </tr>\n",
       "    <tr>\n",
       "      <th>2</th>\n",
       "      <td>2018-09-25</td>\n",
       "      <td>3</td>\n",
       "      <td>94.7</td>\n",
       "      <td>96.466</td>\n",
       "      <td>375.00</td>\n",
       "      <td>0.066144</td>\n",
       "    </tr>\n",
       "    <tr>\n",
       "      <th>3</th>\n",
       "      <td>2018-09-26</td>\n",
       "      <td>4</td>\n",
       "      <td>94.4</td>\n",
       "      <td>96.349</td>\n",
       "      <td>0.00</td>\n",
       "      <td>0.079057</td>\n",
       "    </tr>\n",
       "    <tr>\n",
       "      <th>4</th>\n",
       "      <td>2018-09-27</td>\n",
       "      <td>5</td>\n",
       "      <td>95.4</td>\n",
       "      <td>96.232</td>\n",
       "      <td>625.00</td>\n",
       "      <td>0.415331</td>\n",
       "    </tr>\n",
       "    <tr>\n",
       "      <th>5</th>\n",
       "      <td>2018-09-28</td>\n",
       "      <td>6</td>\n",
       "      <td>95.4</td>\n",
       "      <td>96.115</td>\n",
       "      <td>750.00</td>\n",
       "      <td>0.540833</td>\n",
       "    </tr>\n",
       "    <tr>\n",
       "      <th>6</th>\n",
       "      <td>2018-09-29</td>\n",
       "      <td>7</td>\n",
       "      <td>96.2</td>\n",
       "      <td>95.998</td>\n",
       "      <td>675.00</td>\n",
       "      <td>0.158114</td>\n",
       "    </tr>\n",
       "    <tr>\n",
       "      <th>7</th>\n",
       "      <td>2018-09-30</td>\n",
       "      <td>8</td>\n",
       "      <td>95.3</td>\n",
       "      <td>95.881</td>\n",
       "      <td>0.00</td>\n",
       "      <td>0.223607</td>\n",
       "    </tr>\n",
       "    <tr>\n",
       "      <th>8</th>\n",
       "      <td>2018-10-01</td>\n",
       "      <td>9</td>\n",
       "      <td>95.0</td>\n",
       "      <td>95.764</td>\n",
       "      <td>2070.81</td>\n",
       "      <td>0.079057</td>\n",
       "    </tr>\n",
       "  </tbody>\n",
       "</table>\n",
       "</div>"
      ],
      "text/plain": [
       "         Data  NumeroDias  Peso  Limite  ScoreAtividade  ScoreAlimentacao\n",
       "0  2018-09-23           1  96.7  96.700         1346.64          0.122474\n",
       "1  2018-09-24           2  96.1  96.583         1323.00          0.093541\n",
       "2  2018-09-25           3  94.7  96.466          375.00          0.066144\n",
       "3  2018-09-26           4  94.4  96.349            0.00          0.079057\n",
       "4  2018-09-27           5  95.4  96.232          625.00          0.415331\n",
       "5  2018-09-28           6  95.4  96.115          750.00          0.540833\n",
       "6  2018-09-29           7  96.2  95.998          675.00          0.158114\n",
       "7  2018-09-30           8  95.3  95.881            0.00          0.223607\n",
       "8  2018-10-01           9  95.0  95.764         2070.81          0.079057"
      ]
     },
     "execution_count": 7,
     "metadata": {},
     "output_type": "execute_result"
    }
   ],
   "source": [
    "df_dados[['Data', 'NumeroDias', 'Peso', 'Limite', 'ScoreAtividade', 'ScoreAlimentacao']]"
   ]
  },
  {
   "cell_type": "code",
   "execution_count": null,
   "metadata": {},
   "outputs": [],
   "source": []
  }
 ],
 "metadata": {
  "kernelspec": {
   "display_name": "Python 3",
   "language": "python",
   "name": "python3"
  },
  "language_info": {
   "codemirror_mode": {
    "name": "ipython",
    "version": 3
   },
   "file_extension": ".py",
   "mimetype": "text/x-python",
   "name": "python",
   "nbconvert_exporter": "python",
   "pygments_lexer": "ipython3",
   "version": "3.7.0"
  }
 },
 "nbformat": 4,
 "nbformat_minor": 2
}
