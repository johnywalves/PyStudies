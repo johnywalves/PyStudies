{
 "cells": [
  {
   "cell_type": "markdown",
   "metadata": {},
   "source": [
    "# Séries Temporais"
   ]
  },
  {
   "cell_type": "code",
   "execution_count": null,
   "metadata": {},
   "outputs": [],
   "source": [
    "# Importar bibliotecas\n",
    "import pandas as pd\n",
    "import numpy as np\n",
    "\n",
    "#\n",
    "from datetime import date\n",
    "\n",
    "# \n",
    "import matplotlib.pyplot as plt\n",
    "from matplotlib.pyplot import figure\n",
    "\n",
    "# Carregar dataframe com o conteúdo do arquivo\n",
    "df_comb = pd.read_csv('./pc-sjrp.csv', sep=';')\n",
    "df_comb.head()"
   ]
  },
  {
   "cell_type": "markdown",
   "metadata": {},
   "source": [
    "### Remover Colunas\n",
    "\n",
    "Remover colunas para facilitar o processo de exploração de dados\n",
    "\n",
    "* \"Região - Sigla\", \"Estado - Sigla\" e \"Município\" são todas da mesma cidade por tanto não desnecessárias  \n",
    "* \"Instalação - Código\", \"Unidade de Medida\" não será utilizado para a analise"
   ]
  },
  {
   "cell_type": "code",
   "execution_count": null,
   "metadata": {},
   "outputs": [],
   "source": [
    "df_comb = df_comb.drop(columns=['Região - Sigla', 'Estado - Sigla', 'Município'])\n",
    "df_comb = df_comb.drop(columns=['Instalação - Código', 'Unidade de Medida'])\n",
    "df_comb.head()"
   ]
  },
  {
   "cell_type": "markdown",
   "metadata": {},
   "source": [
    "### Converter campos de datas\n",
    "Aplicando uma função por colunas"
   ]
  },
  {
   "cell_type": "code",
   "execution_count": null,
   "metadata": {},
   "outputs": [],
   "source": [
    "coleta = df_comb['Data da Coleta']\n",
    "\n",
    "def ajustarData(coleta):\n",
    "    ano = int(coleta[6:10])\n",
    "    mes = int(coleta[3:5])\n",
    "    dia = int(coleta[0:2])\n",
    "    return date(year=ano, month=mes, day=dia)\n",
    "\n",
    "df_comb['Data'] = coleta.apply(ajustarData)\n",
    "df_comb.head()"
   ]
  },
  {
   "cell_type": "code",
   "execution_count": null,
   "metadata": {},
   "outputs": [],
   "source": [
    "df_comb.dtypes"
   ]
  },
  {
   "cell_type": "code",
   "execution_count": null,
   "metadata": {},
   "outputs": [],
   "source": [
    "df_comb['Data da Coleta'] = pd.to_datetime(df_comb['Data da Coleta'], format=\"%d/%m/%Y\")\n",
    "df_comb.dtypes"
   ]
  },
  {
   "cell_type": "markdown",
   "metadata": {},
   "source": [
    "Conversão de dados por tipo"
   ]
  },
  {
   "cell_type": "code",
   "execution_count": null,
   "metadata": {},
   "outputs": [],
   "source": [
    "df_comb['Valor de Venda'] = df_comb['Valor de Venda'].astype('float64')\n",
    "df_comb.head()"
   ]
  },
  {
   "cell_type": "markdown",
   "metadata": {},
   "source": [
    "### Selecionar colunas por nomes"
   ]
  },
  {
   "cell_type": "code",
   "execution_count": null,
   "metadata": {},
   "outputs": [],
   "source": [
    "df_tipos = df_comb[['Data da Coleta', 'Produto', 'Valor de Venda']]\n",
    "df_tipos.head()"
   ]
  },
  {
   "cell_type": "markdown",
   "metadata": {},
   "source": [
    "### Agrupar os valores por Data e Produtos"
   ]
  },
  {
   "cell_type": "code",
   "execution_count": null,
   "metadata": {},
   "outputs": [],
   "source": [
    "df_grupos = df_tipos.groupby(['Data da Coleta', 'Produto']).mean()\n",
    "df_grupos.head()"
   ]
  },
  {
   "cell_type": "markdown",
   "metadata": {},
   "source": [
    "### Pivotar tabela como média na agregação"
   ]
  },
  {
   "cell_type": "code",
   "execution_count": null,
   "metadata": {},
   "outputs": [],
   "source": [
    "df_dp_valor = pd.pivot_table(df_tipos, values='Valor de Venda', index=['Data da Coleta'], columns=['Produto'], aggfunc=np.mean)\n",
    "df_dp_valor.head()"
   ]
  },
  {
   "cell_type": "markdown",
   "metadata": {},
   "source": [
    "### Gráfico de linhas"
   ]
  },
  {
   "cell_type": "code",
   "execution_count": null,
   "metadata": {},
   "outputs": [],
   "source": [
    "plt.plot(df_dp_valor.index, df_dp_valor['GASOLINA'])\n",
    "plt.show()"
   ]
  },
  {
   "cell_type": "markdown",
   "metadata": {},
   "source": [
    "### Gráfico com várias linhas"
   ]
  },
  {
   "cell_type": "code",
   "execution_count": null,
   "metadata": {},
   "outputs": [],
   "source": [
    "plt.plot(df_dp_valor.index, df_dp_valor['DIESEL'])\n",
    "plt.plot(df_dp_valor.index, df_dp_valor['DIESEL S10'])\n",
    "plt.plot(df_dp_valor.index, df_dp_valor['ETANOL'])\n",
    "plt.plot(df_dp_valor.index, df_dp_valor['GASOLINA'])\n",
    "\n",
    "plt.show()"
   ]
  },
  {
   "cell_type": "markdown",
   "metadata": {},
   "source": [
    "### Adição de Legendas "
   ]
  },
  {
   "cell_type": "code",
   "execution_count": null,
   "metadata": {},
   "outputs": [],
   "source": [
    "plt.plot(df_dp_valor.index, df_dp_valor['DIESEL'])\n",
    "plt.plot(df_dp_valor.index, df_dp_valor['DIESEL S10'])\n",
    "plt.plot(df_dp_valor.index, df_dp_valor['ETANOL'])\n",
    "plt.plot(df_dp_valor.index, df_dp_valor['GASOLINA'])\n",
    "\n",
    "plt.ylabel('Valores')\n",
    "plt.xlabel('Datas')\n",
    "plt.legend(['Diesel', 'Diesel S10', 'Etanol', 'Gasolina'])\n",
    "\n",
    "plt.show()"
   ]
  },
  {
   "cell_type": "markdown",
   "metadata": {},
   "source": [
    "### Ampliar área de impressão"
   ]
  },
  {
   "cell_type": "code",
   "execution_count": null,
   "metadata": {},
   "outputs": [],
   "source": [
    "figure(figsize=(20, 10), dpi=500)\n",
    "\n",
    "plt.plot(df_dp_valor.index, df_dp_valor['DIESEL'])\n",
    "plt.plot(df_dp_valor.index, df_dp_valor['DIESEL S10'])\n",
    "plt.plot(df_dp_valor.index, df_dp_valor['ETANOL'])\n",
    "plt.plot(df_dp_valor.index, df_dp_valor['GASOLINA'])\n",
    "\n",
    "plt.ylabel('Valores')\n",
    "plt.xlabel('Datas')\n",
    "plt.legend(['Diesel', 'Diesel S10', 'Etanol', 'Gasolina'])\n",
    "\n",
    "plt.show()"
   ]
  },
  {
   "cell_type": "markdown",
   "metadata": {},
   "source": [
    "### Selecionar dados para prever lucros da Gasolina"
   ]
  },
  {
   "cell_type": "code",
   "execution_count": null,
   "metadata": {},
   "outputs": [],
   "source": [
    "df_compra = df_comb[df_comb['Produto'] == 'GASOLINA']\n",
    "df_compra = df_compra[['Data da Coleta', 'Bandeira', 'Valor de Compra', 'Valor de Venda']]\n",
    "df_compra.head()"
   ]
  },
  {
   "cell_type": "markdown",
   "metadata": {},
   "source": [
    "### Limpar os valores nulos de compras"
   ]
  },
  {
   "cell_type": "code",
   "execution_count": null,
   "metadata": {},
   "outputs": [],
   "source": [
    "df_compra = df_compra.dropna()\n",
    "df_compra.head()"
   ]
  },
  {
   "cell_type": "markdown",
   "metadata": {},
   "source": [
    "---\n",
    "\n",
    "![Questão](question-solid.svg)\n",
    "\n",
    "Como fazer um gráfico com os lucros?\n",
    "\n",
    "---"
   ]
  },
  {
   "cell_type": "code",
   "execution_count": null,
   "metadata": {},
   "outputs": [],
   "source": [
    "df_compra['Lucro'] = df_compra['Valor de Venda'] - df_compra['Valor de Compra']\n",
    "df_compra.head()"
   ]
  },
  {
   "cell_type": "code",
   "execution_count": null,
   "metadata": {},
   "outputs": [],
   "source": [
    "df_compra_valor = pd.pivot_table(df_compra, values='Lucro', index=['Data da Coleta'], columns=['Bandeira'], aggfunc=np.mean)\n",
    "df_compra_valor.head()"
   ]
  },
  {
   "cell_type": "code",
   "execution_count": null,
   "metadata": {},
   "outputs": [],
   "source": [
    "figure(figsize=(20, 10), dpi=500)\n",
    "\n",
    "plt.plot(df_compra_valor.index, df_compra_valor['ALE COMBUSTÍVEIS'])\n",
    "plt.plot(df_compra_valor.index, df_compra_valor['BRANCA'])\n",
    "plt.plot(df_compra_valor.index, df_compra_valor['PETROBRAS DISTRIBUIDORA S.A.'])\n",
    "plt.plot(df_compra_valor.index, df_compra_valor['RAIZEN'])\n",
    "\n",
    "plt.ylabel('Valores')\n",
    "plt.xlabel('Datas')\n",
    "plt.legend(['Diesel', 'Diesel S10', 'Etanol', 'Gasolina'])\n",
    "\n",
    "plt.show()"
   ]
  }
 ],
 "metadata": {
  "kernelspec": {
   "display_name": "Python 3",
   "language": "python",
   "name": "python3"
  },
  "language_info": {
   "codemirror_mode": {
    "name": "ipython",
    "version": 3
   },
   "file_extension": ".py",
   "mimetype": "text/x-python",
   "name": "python",
   "nbconvert_exporter": "python",
   "pygments_lexer": "ipython3",
   "version": "3.6.7rc1"
  }
 },
 "nbformat": 4,
 "nbformat_minor": 2
}
