{
 "cells": [
  {
   "cell_type": "markdown",
   "metadata": {},
   "source": [
    "# Introdução a Ciência de Dados com Python\n",
    "\n",
    "> Ciência de dados (em inglês: data science) é uma área interdisciplinar voltada para o estudo e a análise de dados, estruturados ou não, que visa a extração de conhecimento ou insights para possíveis tomadas de decisão, de maneira similar à mineração de dados.  \n",
    "[Wikipedia](https://pt.wikipedia.org/wiki/Ci%C3%AAncia_de_dados)\n",
    "\n",
    "#### Conceitos \n",
    "\n",
    "Introdução de alguns conceitos utilizados \n",
    "\n",
    "* Estatísticas\n",
    "* Analise de dados\n",
    "* BigData\n",
    "* Bussiness Inteligence"
   ]
  },
  {
   "cell_type": "markdown",
   "metadata": {},
   "source": [
    "## Habilidades de um Cientista de Dados\n",
    "\n",
    "Um ciência de dados é uma área de intersecção entre áreas e conhecimentos\n",
    "\n",
    "![Data Science Skills](data_science_skills.jpg)\n",
    "[Fonte](http://fusionanalyticsworld.com/75-must-know-data-science-interview-questions/)"
   ]
  },
  {
   "cell_type": "markdown",
   "metadata": {},
   "source": [
    "## Elementos para Análise\n",
    "\n",
    "\n",
    "\n",
    "#### População\n",
    "\n",
    "Conjunto de elementos o qual se pretende entender (pessoas, empresas, sensores...)\n",
    "\n",
    "#### Amostra\n",
    "\n",
    "Subcojunto da população com as informações selecionados para análise\n",
    "\n",
    "* Evitar tendências\n",
    "* Menos de 30 elementos"
   ]
  },
  {
   "cell_type": "markdown",
   "metadata": {},
   "source": [
    "## Bias (Tendências)\n",
    "\n",
    "Exemplos de tendências que devem ser evitadas\n",
    "\n",
    "#### Sampling Bias\n",
    "\n",
    "![Sampling Bias](sampling_bias.png)\n",
    "[Fonte](https://www.geckoboard.com/learn/data-literacy/statistical-fallacies/sampling-bias/)\n",
    "\n",
    "#### Gerrymandering\n",
    "\n",
    "![Gerrymandering](gerrymandering.png)\n",
    "[Fonte](https://www.fairvote.org/new_poll_everybody_hates_gerrymandering)\n",
    "\n",
    "#### Surviver Bias (Tendência do Sobrevivente)\n",
    "\n",
    "![Surviver Bias](surviver_bias.png)\n",
    "[Fonte](http://blog.idonethis.com/7-lessons-survivorship-bias-will-help-make-better-decisions/)"
   ]
  },
  {
   "cell_type": "markdown",
   "metadata": {},
   "source": [
    "Para produzir esse material foi usado as seguintes referências\n",
    "\n",
    "[Workshops Igor Alcantara](https://igoralcantara.com.br/), [Pandas](https://pandas.pydata.org/pandas-docs/stable/reference/api/pandas.DataFrame.html), [NumPy](https://docs.scipy.org/doc/numpy/reference/) e \n",
    "[MatPlotLib](https://matplotlib.org/3.1.1/api/)"
   ]
  }
 ],
 "metadata": {
  "kernelspec": {
   "display_name": "Python 3",
   "language": "python",
   "name": "python3"
  },
  "language_info": {
   "codemirror_mode": {
    "name": "ipython",
    "version": 3
   },
   "file_extension": ".py",
   "mimetype": "text/x-python",
   "name": "python",
   "nbconvert_exporter": "python",
   "pygments_lexer": "ipython3",
   "version": "3.6.7rc1"
  }
 },
 "nbformat": 4,
 "nbformat_minor": 2
}
