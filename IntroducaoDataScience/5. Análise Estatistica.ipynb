{
 "cells": [
  {
   "cell_type": "markdown",
   "metadata": {},
   "source": [
    "# Análise Estatistica"
   ]
  },
  {
   "cell_type": "code",
   "execution_count": null,
   "metadata": {},
   "outputs": [],
   "source": [
    "# Importar bibliotecas\n",
    "import pandas as pd\n",
    "import numpy as np\n",
    "import matplotlib.pyplot as plt"
   ]
  },
  {
   "cell_type": "markdown",
   "metadata": {},
   "source": [
    "### Carregar dataframe com o conteúdo do arquivo\n",
    "\n",
    "caminho do arquivo para ler  \n",
    "**sep** ([str] ','): Separador de colunas  \n",
    "**delimiter** ([str], None): Delimitador de texto  \n",
    "**header** ([int, list of int], 'infer'): Quantidade de cabeçalho "
   ]
  },
  {
   "cell_type": "code",
   "execution_count": null,
   "metadata": {},
   "outputs": [],
   "source": [
    "df_happy = pd.read_csv('./wh-2017.csv')"
   ]
  },
  {
   "cell_type": "markdown",
   "metadata": {},
   "source": [
    "### Visualizar todos os registros"
   ]
  },
  {
   "cell_type": "code",
   "execution_count": null,
   "metadata": {
    "scrolled": false
   },
   "outputs": [],
   "source": [
    "df_happy"
   ]
  },
  {
   "cell_type": "markdown",
   "metadata": {},
   "source": [
    "### Visualizar 5 primeiros registros"
   ]
  },
  {
   "cell_type": "code",
   "execution_count": null,
   "metadata": {},
   "outputs": [],
   "source": [
    "df_happy.head()"
   ]
  },
  {
   "cell_type": "markdown",
   "metadata": {},
   "source": [
    "### Visualizar 5 últimos registros"
   ]
  },
  {
   "cell_type": "code",
   "execution_count": null,
   "metadata": {},
   "outputs": [],
   "source": [
    "df_happy.tail()"
   ]
  },
  {
   "cell_type": "markdown",
   "metadata": {},
   "source": [
    "### Remover colunas"
   ]
  },
  {
   "cell_type": "code",
   "execution_count": null,
   "metadata": {},
   "outputs": [],
   "source": [
    "df_happy = df_happy.drop(columns=['Whisker.high', 'Whisker.low'])\n",
    "df_happy.head()"
   ]
  },
  {
   "cell_type": "markdown",
   "metadata": {},
   "source": [
    "### Ordenar os dados"
   ]
  },
  {
   "cell_type": "code",
   "execution_count": null,
   "metadata": {},
   "outputs": [],
   "source": [
    "df_happy_ordem_exp = df_happy.sort_values(by='Health..Life.Expectancy.', ascending=False)\n",
    "df_happy_ordem_exp.head()"
   ]
  },
  {
   "cell_type": "markdown",
   "metadata": {},
   "source": [
    "---\n",
    "\n",
    "![Questão](question-solid.svg)\n",
    "\n",
    "Quais os cinco países mais e menos Generosos?\n",
    "\n",
    "---"
   ]
  },
  {
   "cell_type": "markdown",
   "metadata": {},
   "source": [
    "### Listar tipos das colunas"
   ]
  },
  {
   "cell_type": "code",
   "execution_count": null,
   "metadata": {},
   "outputs": [],
   "source": [
    "df_happy.dtypes"
   ]
  },
  {
   "cell_type": "markdown",
   "metadata": {},
   "source": [
    "### Analizar Felicidade - Análise descritiva\n",
    "\n",
    "Para grande conjunto de dados a análise descritiva ajuda a entender os dados sem a necessidade de analise individual\n",
    "\n",
    "## Medidas de Síntese\n",
    "\n",
    "* Tamanho\n",
    "* Soma\n",
    "* Máximo\n",
    "* Minimo\n",
    "* Quantis  \n",
    "..."
   ]
  },
  {
   "cell_type": "code",
   "execution_count": null,
   "metadata": {},
   "outputs": [],
   "source": [
    "felicidade = df_happy['Happiness.Score']\n",
    "\n",
    "sum = felicidade.sum()\n",
    "count = felicidade.count()\n",
    "min = felicidade.min()\n",
    "max = felicidade.max()\n",
    "\n",
    "print(\"Contagem\", count)\n",
    "print(\"Soma\", sum)\n",
    "print(\"Mínimo\", min)\n",
    "print(\"Máximo\", max)"
   ]
  },
  {
   "cell_type": "code",
   "execution_count": null,
   "metadata": {},
   "outputs": [],
   "source": [
    "quantile = 15\n",
    "percentil = felicidade.quantile(quantile / 100)\n",
    "print(\"Percentil \", quantile, percentil)"
   ]
  },
  {
   "cell_type": "markdown",
   "metadata": {},
   "source": [
    "## Medidas de Tendência ao Centro\n",
    "\n",
    "* Média\n",
    "* Mediana\n",
    "* Moda  \n",
    "..."
   ]
  },
  {
   "cell_type": "code",
   "execution_count": null,
   "metadata": {},
   "outputs": [],
   "source": [
    "felicidade = df_happy['Happiness.Score']\n",
    "\n",
    "mean = felicidade.mean()\n",
    "median = felicidade.median()\n",
    "moda = felicidade.mode()\n",
    "\n",
    "print(\"Média\", mean)\n",
    "print(\"Mediana\", median)\n",
    "print(\"Moda\", moda)"
   ]
  },
  {
   "cell_type": "markdown",
   "metadata": {},
   "source": [
    "## Medidas de dispersão\n",
    "\n",
    "* Covariância  \n",
    "* Desvio padrão"
   ]
  },
  {
   "cell_type": "markdown",
   "metadata": {},
   "source": [
    "#### Variância\n",
    "\n",
    "Medida dispersão da média a amostra\n",
    "\n",
    "![Variance](variance.svg)"
   ]
  },
  {
   "cell_type": "code",
   "execution_count": null,
   "metadata": {},
   "outputs": [],
   "source": [
    "var = df_happy['Happiness.Score'].var()\n",
    "print(\"Variância\", var)"
   ]
  },
  {
   "cell_type": "markdown",
   "metadata": {},
   "source": [
    "#### Desvio Padrão \n",
    "\n",
    "Raiz da medida dispersão da média a amostra\n",
    "\n",
    "![Desvio Padrão](standard_deviation.svg)"
   ]
  },
  {
   "cell_type": "code",
   "execution_count": null,
   "metadata": {},
   "outputs": [],
   "source": [
    "dp = df_happy['Happiness.Score'].std()\n",
    "print(\"Desvio Padrão\", dp)"
   ]
  },
  {
   "cell_type": "markdown",
   "metadata": {},
   "source": [
    "### Distribuição de dados"
   ]
  },
  {
   "cell_type": "code",
   "execution_count": null,
   "metadata": {
    "scrolled": true
   },
   "outputs": [],
   "source": [
    "felicidade = df_happy['Happiness.Score']\n",
    "min = felicidade.min()\n",
    "max = felicidade.max()\n",
    "intervalos = np.arange(min, max, (max - min) / 20)\n",
    "\n",
    "rotulos = []\n",
    "distribuicao = []\n",
    "\n",
    "for i in range(len(intervalos) - 1):\n",
    "    qtd = felicidade[(felicidade >= intervalos[i]) & (felicidade < intervalos[i + 1])].count()\n",
    "    rotulos.append(intervalos[i])\n",
    "    distribuicao.append(qtd)\n",
    "    \n",
    "plt.title('Distribuição da Felicidade por Quantidade')    \n",
    "plt.bar(rotulos, distribuicao)\n",
    "plt.show()"
   ]
  },
  {
   "cell_type": "markdown",
   "metadata": {},
   "source": [
    "### Tendência a média\n",
    "\n",
    "Crescimento de empresas  \n",
    "Pilotos de aviões  \n",
    "Jogadores de futebol  "
   ]
  },
  {
   "cell_type": "markdown",
   "metadata": {},
   "source": [
    "---\n",
    "\n",
    "![Questão](question-solid.svg)\n",
    "\n",
    "Renda per Capita também tende a média?\n",
    "\n",
    "---"
   ]
  },
  {
   "cell_type": "markdown",
   "metadata": {},
   "source": [
    "## BoxPlot\n",
    "\n",
    "Cinco números de resumo "
   ]
  },
  {
   "cell_type": "code",
   "execution_count": null,
   "metadata": {},
   "outputs": [],
   "source": [
    "boxplot_happy = df_happy.boxplot(column=['Happiness.Score'])\n",
    "quartiles = np.percentile(df_happy['Happiness.Score'], [0, 25, 50, 75, 100])\n",
    "\n",
    "print(\"Quartis\", quartiles)"
   ]
  },
  {
   "cell_type": "markdown",
   "metadata": {},
   "source": [
    "---\n",
    "\n",
    "![Questão](question-solid.svg)\n",
    "\n",
    "Como são os outros boxplot?\n",
    "\n",
    "---"
   ]
  },
  {
   "cell_type": "code",
   "execution_count": null,
   "metadata": {},
   "outputs": [],
   "source": [
    "boxplot_outros = df_happy.boxplot(column=['Economy..GDP.per.Capita.', 'Family', 'Health..Life.Expectancy.', 'Freedom', 'Generosity', 'Trust..Government.Corruption.', 'Dystopia.Residual'])"
   ]
  },
  {
   "cell_type": "markdown",
   "metadata": {},
   "source": [
    "## Outliers"
   ]
  },
  {
   "cell_type": "code",
   "execution_count": null,
   "metadata": {},
   "outputs": [],
   "source": [
    "boxplot = df_happy.boxplot(column=['Trust..Government.Corruption.'])\n",
    "quartiles = np.percentile(df_happy['Trust..Government.Corruption.'], [0, 25, 50, 75, 100])\n",
    "\n",
    "print(\"Min\", quartiles[0])\n",
    "print(\"Q1\", quartiles[1])\n",
    "print(\"Mediana\", quartiles[2])\n",
    "print(\"Q3\", quartiles[3])\n",
    "print(\"Max\", quartiles[4])"
   ]
  },
  {
   "cell_type": "code",
   "execution_count": null,
   "metadata": {},
   "outputs": [],
   "source": [
    "df_happy['Trust..Government.Corruption.']"
   ]
  },
  {
   "cell_type": "code",
   "execution_count": null,
   "metadata": {},
   "outputs": [],
   "source": [
    "confianca = df_happy['Trust..Government.Corruption.']\n",
    "q1 = confianca.quantile(0.25)\n",
    "q3 = confianca.quantile(0.75)\n",
    "\n",
    "iqr = q3 - q1\n",
    "limit_bottom = q1 - 1.5 * iqr\n",
    "limit_top = q3 + 1.5 * iqr\n",
    "\n",
    "print(\"IQR\", iqr) # Intervalo Interquatil\n",
    "print(\"Limit Bottom\", limit_bottom)\n",
    "print(\"Limit Top\", limit_top)"
   ]
  },
  {
   "cell_type": "code",
   "execution_count": null,
   "metadata": {},
   "outputs": [],
   "source": [
    "df_happy.loc[(df_happy['Trust..Government.Corruption.'] >= limit_top)]"
   ]
  },
  {
   "cell_type": "code",
   "execution_count": null,
   "metadata": {},
   "outputs": [],
   "source": [
    "df_happy.loc[(df_happy['Trust..Government.Corruption.'] <= limit_bottom)]"
   ]
  },
  {
   "cell_type": "markdown",
   "metadata": {},
   "source": [
    "---\n",
    "\n",
    "![Questão](question-solid.svg)\n",
    "\n",
    "Quais países possuem são outliner de renda per capita?\n",
    "\n",
    "---"
   ]
  },
  {
   "cell_type": "markdown",
   "metadata": {},
   "source": [
    "## Correlações\n",
    "\n",
    "Pearson"
   ]
  },
  {
   "cell_type": "code",
   "execution_count": null,
   "metadata": {},
   "outputs": [],
   "source": [
    "plt.scatter(df_happy['Happiness.Score'], df_happy['Trust..Government.Corruption.'])\n",
    "plt.show()"
   ]
  },
  {
   "cell_type": "code",
   "execution_count": null,
   "metadata": {},
   "outputs": [],
   "source": [
    "pd.plotting.scatter_matrix(df_happy, figsize=(18, 18))\n",
    "plt.show()"
   ]
  },
  {
   "cell_type": "markdown",
   "metadata": {},
   "source": [
    "---\n",
    "\n",
    "![Questão](question-solid.svg)\n",
    "\n",
    "Qual dos valores possuem uma correlação maior com a felicidade?\n",
    "\n",
    "---"
   ]
  },
  {
   "cell_type": "code",
   "execution_count": null,
   "metadata": {},
   "outputs": [],
   "source": [
    "df_happy.corr()"
   ]
  },
  {
   "cell_type": "code",
   "execution_count": null,
   "metadata": {},
   "outputs": [],
   "source": [
    "correlacoes = df_happy.corr()\n",
    "\n",
    "plt.matshow(correlacoes)\n",
    "plt.xticks(range(len(correlacoes.columns)), correlacoes)\n",
    "plt.yticks(range(len(correlacoes.columns)), correlacoes)\n",
    "plt.colorbar()\n",
    "plt.show()"
   ]
  },
  {
   "cell_type": "code",
   "execution_count": null,
   "metadata": {},
   "outputs": [],
   "source": [
    "plt.scatter(df_happy['Happiness.Score'], df_happy['Generosity'])\n",
    "plt.show()"
   ]
  },
  {
   "cell_type": "code",
   "execution_count": null,
   "metadata": {},
   "outputs": [],
   "source": [
    "plt.scatter(df_happy['Happiness.Score'], df_happy['Economy..GDP.per.Capita.'])\n",
    "plt.show()"
   ]
  },
  {
   "cell_type": "markdown",
   "metadata": {},
   "source": [
    "### Problema com correlações\n",
    "\n",
    "* Correlação não é causa\n",
    "* Correlação espúria\n",
    "* Variável de confusão\n",
    "\n",
    "##### Exemplos\n",
    "\n",
    "* Tubarão e Sorvetes\n",
    "* Nicholas Cage e suicídios"
   ]
  }
 ],
 "metadata": {
  "kernelspec": {
   "display_name": "Python 3",
   "language": "python",
   "name": "python3"
  },
  "language_info": {
   "codemirror_mode": {
    "name": "ipython",
    "version": 3
   },
   "file_extension": ".py",
   "mimetype": "text/x-python",
   "name": "python",
   "nbconvert_exporter": "python",
   "pygments_lexer": "ipython3",
   "version": "3.6.7rc1"
  }
 },
 "nbformat": 4,
 "nbformat_minor": 2
}
