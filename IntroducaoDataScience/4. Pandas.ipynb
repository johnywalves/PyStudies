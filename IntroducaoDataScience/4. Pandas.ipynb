{
 "cells": [
  {
   "cell_type": "markdown",
   "metadata": {},
   "source": [
    "# Biblioteca Pandas\n",
    "\n",
    "Biblioteca de manipulação de dados númericos e séries temporais"
   ]
  },
  {
   "cell_type": "code",
   "execution_count": null,
   "metadata": {},
   "outputs": [],
   "source": [
    "# Importação da biblioteca 'Pandas' com o apelido 'pd' \n",
    "import pandas as pd"
   ]
  },
  {
   "cell_type": "markdown",
   "metadata": {},
   "source": [
    "### Criação de um DataFrame com a classificação de frutas"
   ]
  },
  {
   "cell_type": "code",
   "execution_count": null,
   "metadata": {},
   "outputs": [],
   "source": [
    "df_frutas_1 = pd.DataFrame([\n",
    "    {\"Nome\": \"Banana\", \"Cor\": \"Yellow\", \"CascaComestivel\": False, \"Nota\": 9 },\n",
    "    {\"Nome\": \"Maçã\", \"Cor\": \"Red\", \"CascaComestivel\": True, \"Nota\": 4 },\n",
    "    {\"Nome\": \"Goiaba\", \"Cor\": \"Green\", \"CascaComestivel\": True, \"Nota\": 6 }\n",
    "], index=['3', '1', '2'])\n",
    "df_frutas_1"
   ]
  },
  {
   "cell_type": "markdown",
   "metadata": {},
   "source": [
    "### Adicionar coluna para todos os valores"
   ]
  },
  {
   "cell_type": "code",
   "execution_count": null,
   "metadata": {},
   "outputs": [],
   "source": [
    "df_frutas_1[\"Comestível\"] = True\n",
    "df_frutas_1"
   ]
  },
  {
   "cell_type": "markdown",
   "metadata": {},
   "source": [
    "### Criação de um novo dataframe com o campo coméstivel incluso"
   ]
  },
  {
   "cell_type": "code",
   "execution_count": null,
   "metadata": {},
   "outputs": [],
   "source": [
    "df_frutas_2 = pd.DataFrame([\n",
    "    {\"Nome\": \"Maracujá\", \"Cor\": \"Yellow\", \"CascaComestivel\": False, \"Nota\": 9, \"Comestível\": True },\n",
    "    {\"Nome\": \"Pera\", \"Cor\": \"Green\", \"CascaComestivel\": True, \"Nota\": 4, \"Comestível\": True }\n",
    "])\n",
    "df_frutas_2"
   ]
  },
  {
   "cell_type": "markdown",
   "metadata": {},
   "source": [
    "### União dos dataframes"
   ]
  },
  {
   "cell_type": "code",
   "execution_count": null,
   "metadata": {},
   "outputs": [],
   "source": [
    "df_frutas = pd.merge(df_frutas_1, df_frutas_2, how=\"outer\")\n",
    "df_frutas"
   ]
  },
  {
   "cell_type": "markdown",
   "metadata": {},
   "source": [
    "### Criação de array com Fruta e Origem"
   ]
  },
  {
   "cell_type": "code",
   "execution_count": null,
   "metadata": {},
   "outputs": [],
   "source": [
    "df_frutas_origem = pd.DataFrame([\n",
    "    {\"Nome\": \"Banana\", \"Origem\": \"Indonésia\" },\n",
    "    {\"Nome\": \"Maçã\", \"Origem\": \"Ásia Central\" },\n",
    "    {\"Nome\": \"Goiaba\", \"Origem\": \"Brasil\" },\n",
    "    {\"Nome\": \"Maracujá\", \"Origem\": \"Brasil\" },\n",
    "    {\"Nome\": \"Pera\", \"Origem\": \"Norte da África\" }\n",
    "])\n",
    "df_frutas_origem"
   ]
  },
  {
   "cell_type": "markdown",
   "metadata": {},
   "source": [
    "### União lateral de dataframe"
   ]
  },
  {
   "cell_type": "code",
   "execution_count": null,
   "metadata": {},
   "outputs": [],
   "source": [
    "df_frutas_completo = pd.merge(df_frutas, df_frutas_origem, how=\"left\", left_on=\"Nome\", right_on=\"Nome\")\n",
    "df_frutas_completo"
   ]
  },
  {
   "cell_type": "markdown",
   "metadata": {},
   "source": [
    "---\n",
    "\n",
    "![Questão](question-solid.svg)\n",
    "\n",
    "Como adicionar um nova fruta?\n",
    "\n",
    "---"
   ]
  },
  {
   "cell_type": "markdown",
   "metadata": {},
   "source": [
    "# Visualização de dados"
   ]
  },
  {
   "cell_type": "markdown",
   "metadata": {},
   "source": [
    "## Biblioteca Matplotlib"
   ]
  },
  {
   "cell_type": "code",
   "execution_count": null,
   "metadata": {},
   "outputs": [],
   "source": [
    "# Importação da bibliotecas\n",
    "import matplotlib.pyplot as plt\n",
    "from matplotlib.pyplot import figure"
   ]
  },
  {
   "cell_type": "markdown",
   "metadata": {},
   "source": [
    "### Colunas"
   ]
  },
  {
   "cell_type": "code",
   "execution_count": null,
   "metadata": {},
   "outputs": [],
   "source": [
    "nome = df_frutas_completo['Nome']\n",
    "nota = df_frutas_completo['Nota']\n",
    "\n",
    "plt.bar(nome, nota)\n",
    "plt.show()"
   ]
  },
  {
   "cell_type": "markdown",
   "metadata": {},
   "source": [
    "### Adicionar Título para relatório"
   ]
  },
  {
   "cell_type": "code",
   "execution_count": null,
   "metadata": {},
   "outputs": [],
   "source": [
    "plt.bar(nome, nota)\n",
    "plt.title('Notas de Frutas')\n",
    "plt.show()"
   ]
  },
  {
   "cell_type": "markdown",
   "metadata": {},
   "source": [
    "### Adicionar rótulo para linhas e colunas"
   ]
  },
  {
   "cell_type": "code",
   "execution_count": null,
   "metadata": {},
   "outputs": [],
   "source": [
    "plt.bar(nome, nota)\n",
    "plt.title('Notas de Frutas')\n",
    "plt.xlabel('Frutas', fontsize=12)\n",
    "plt.ylabel('Notas', fontsize=12)\n",
    "plt.show()"
   ]
  },
  {
   "cell_type": "markdown",
   "metadata": {},
   "source": [
    "### Adicionar efeito no rótulo das colunas"
   ]
  },
  {
   "cell_type": "code",
   "execution_count": null,
   "metadata": {},
   "outputs": [],
   "source": [
    "plt.bar(nome, nota)\n",
    "plt.title('Notas de Frutas')\n",
    "plt.xlabel('Frutas', fontsize=12)\n",
    "plt.ylabel('Notas', fontsize=12)\n",
    "plt.xticks(nome, nome, fontsize=12, rotation=30)\n",
    "plt.show()"
   ]
  },
  {
   "cell_type": "markdown",
   "metadata": {},
   "source": [
    "### Alteração de cores"
   ]
  },
  {
   "cell_type": "code",
   "execution_count": null,
   "metadata": {},
   "outputs": [],
   "source": [
    "plt.bar(nome, nota, color=(0.3, 0.4, 0.6, 0.5))\n",
    "plt.title('Notas de Frutas')\n",
    "plt.xlabel('Frutas', fontsize=12)\n",
    "plt.ylabel('Notas', fontsize=12)\n",
    "plt.xticks(nome, nome, fontsize=12, rotation=30)\n",
    "plt.show()"
   ]
  },
  {
   "cell_type": "markdown",
   "metadata": {},
   "source": [
    "### Adicionar cores por valores"
   ]
  },
  {
   "cell_type": "code",
   "execution_count": null,
   "metadata": {},
   "outputs": [],
   "source": [
    "cores = df_frutas_completo['Cor']\n",
    "\n",
    "plt.bar(nome, nota, color=cores)\n",
    "plt.title('Notas de Frutas')\n",
    "plt.xlabel('Frutas', fontsize=12)\n",
    "plt.ylabel('Notas', fontsize=12)\n",
    "plt.xticks(nome, nome, fontsize=12, rotation=30)\n",
    "plt.show()"
   ]
  },
  {
   "cell_type": "markdown",
   "metadata": {},
   "source": [
    "### Colunas horizontais"
   ]
  },
  {
   "cell_type": "code",
   "execution_count": null,
   "metadata": {},
   "outputs": [],
   "source": [
    "colors = df_frutas_completo['Cor']\n",
    "\n",
    "plt.barh(nome, nota, color=colors)\n",
    "plt.title('Notas de Frutas')\n",
    "plt.xlabel('Frutas', fontsize=12)\n",
    "plt.ylabel('Notas', fontsize=12)\n",
    "plt.show()"
   ]
  }
 ],
 "metadata": {
  "kernelspec": {
   "display_name": "Python 3",
   "language": "python",
   "name": "python3"
  },
  "language_info": {
   "codemirror_mode": {
    "name": "ipython",
    "version": 3
   },
   "file_extension": ".py",
   "mimetype": "text/x-python",
   "name": "python",
   "nbconvert_exporter": "python",
   "pygments_lexer": "ipython3",
   "version": "3.6.7rc1"
  }
 },
 "nbformat": 4,
 "nbformat_minor": 2
}
