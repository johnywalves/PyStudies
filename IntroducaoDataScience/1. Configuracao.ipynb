{
 "cells": [
  {
   "cell_type": "markdown",
   "metadata": {},
   "source": [
    "# Iniciando Ciência de Dados (Python)\n",
    "\n",
    "Apresentação da aplicação de conceitos de estátisticas (média, mediana, outliners, quatis, percentis, desvio padrão...), carga e transformação de dados, gráficos (boxplot, colunas, linhas...) com Python e Jupyter Notebook"
   ]
  },
  {
   "cell_type": "markdown",
   "metadata": {},
   "source": [
    "## Ambiente\n",
    "\n",
    "Python é uma ótima ferramenta para lidar com Ciência de dados com ferramentas simples e intuitivas, vou demonstrar um pouco como lidar com elas  \n",
    "As ferramentas do Python e do Pip, configuradas na versão 3.5 ou superior, instruções no artigo [Ambiente Python](/Ambiente_Python), podemos verificar a versão com os comandos\n",
    "\n",
    "```bash\n",
    "python --version\n",
    "# Python 3.7.3\n",
    "pip --version\n",
    "# pip 19.2.1\n",
    "```"
   ]
  },
  {
   "cell_type": "markdown",
   "metadata": {},
   "source": [
    "## Execução em Python\n",
    "\n",
    "Executar linha de comando em Python\n",
    "\n",
    "```bash\n",
    "python -c \"print('Olá Mundo')\"\n",
    "```\n",
    "\n",
    "Criar o arquivo de texto com o nome **programa.py** e adicionar o código:\n",
    "\n",
    "```python\n",
    "print('Sou um programa em Python')\n",
    "```\n",
    "\n",
    "Executar por arquivo\n",
    "\n",
    "```bash\n",
    "python programa.py\n",
    "```"
   ]
  },
  {
   "cell_type": "markdown",
   "metadata": {},
   "source": [
    "## Instalação de Pacotes\n",
    "\n",
    "Instalar a biblioteca que vamos utilizar:\n",
    "\n",
    "```bash\n",
    "pip install pandas numpy matplotlib sklearn jupyter\n",
    "```\n",
    "\n",
    "Abrir Jupyter Notebook na pasta de trabalho onde os dados estão e será salvo os Notebooks\n",
    "\n",
    "```bash\n",
    "jupyter notebook\n",
    "#    Copy/paste this URL into your browser when you connect for the first time,\n",
    "#    to login with a token:\n",
    "#        http://localhost:8888/?token=b9519341599ba78271528470648625920b3081a890db2856\n",
    "```"
   ]
  },
  {
   "cell_type": "markdown",
   "metadata": {},
   "source": [
    "## Jupyter Notebook\n",
    "\n",
    "* Nova célula\n",
    "* Executar célula"
   ]
  },
  {
   "cell_type": "markdown",
   "metadata": {},
   "source": [
    "## Markdown\n",
    "\n",
    "`#` Cabeçalho (h1)  \n",
    "`##` Cabeçalho (h2)  \n",
    "`###` Cabeçalho (h3)  \n",
    "`####` Cabeçalho (h4)  \n",
    "`#####` Cabeçalho (h5)  \n",
    "\n",
    "`  ` Pular de linha \n",
    "\n",
    "`*` *itálico*  \n",
    "`**` **negrito**  \n",
    "`~~` ~~linha em cima~~\n",
    "\n",
    "`[Nome](Caminho)` Links  \n",
    "`![Nome](Caminho)` Imagens\n",
    "\n",
    "Mais em [Markdown Cheatsheet](https://github.com/adam-p/markdown-here/wiki/Markdown-Cheatsheet)"
   ]
  },
  {
   "cell_type": "markdown",
   "metadata": {},
   "source": [
    "## Dados Utilizados\n",
    "\n",
    "Arquivos em CSV\n",
    "\n",
    "### World Happiness Report\n",
    "\n",
    "Relatório da Felicidade Mundial com estátisticas por países com informações que visam entender a pontuação  \n",
    "[Dataset no Kaggle](https://www.kaggle.com/unsdsn/world-happiness)\n",
    "\n",
    "### Série histórica de preços de combustíveis, por revenda\n",
    "\n",
    "Preços cobrados por combustíveis por revendas para Diesel, Etanol e Gasolina  \n",
    "[Dataset no Dados.gov](http://dados.gov.br/dataset/serie-historica-de-precos-de-combustiveis-por-revenda)"
   ]
  }
 ],
 "metadata": {
  "kernelspec": {
   "display_name": "Python 3",
   "language": "python",
   "name": "python3"
  },
  "language_info": {
   "codemirror_mode": {
    "name": "ipython",
    "version": 3
   },
   "file_extension": ".py",
   "mimetype": "text/x-python",
   "name": "python",
   "nbconvert_exporter": "python",
   "pygments_lexer": "ipython3",
   "version": "3.6.7rc1"
  }
 },
 "nbformat": 4,
 "nbformat_minor": 2
}
